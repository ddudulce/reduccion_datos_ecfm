{
 "cells": [
  {
   "cell_type": "markdown",
   "id": "69699c2c-3d6d-4e34-8ae7-ec1fb83be821",
   "metadata": {},
   "source": [
    "---\n",
    "# **Universidad de San Carlos de Guatemala**  \n",
    "## **Escuela de Ciencias Físicas y Matemáticas**    \n",
    "**Laboratorio de reducción de datos**  \n",
    "**Dulce María Mayorga Vásquez**  \n",
    "**Ensayo sobre versionado de código y Github**   \n",
    "**10 de febrero de 2025** \n",
    "---\n",
    "# Importancia de versionar el código y su utilidad en investigaciones en el área de física\n",
    "En el área de la investigación, específicamente de la física aplicada, el desarrollo de código es una practica común en distantas áreas como el análisis de datos, simulaciones, automatización de procesos y modelado de sistemas fisicos. No obstante, a veces, el manejo ineficiente del código puede llevar a pérdida de información, dificultades en la colaboración y errores que afectan la confiabilidad de los resultados. \n",
    "\n",
    "Para evitar los problemas previamente mencionados, el control de versiones es una herramienta fundamental. Varsionar el código permite ejecutar cambios de manera ordenada, garantizando que cada cambio quede registrado y pueda ser revertida en caso necesario. Es fundamental en proyectos tales como:\n",
    "- Se deben comparar distintas versiones de un modelo numérico o algoritmo.\n",
    "- Se necesita verificar que los cambios en el código no alteren los resultados esperados.\n",
    "- Se trabaja en colaboración con otros investigadores, quienes pueden aportar mejoras o corregir errores sin afectar el trabajo de los demás.\n",
    "\n",
    "A su vez, en la investigación en física, donde la replicabilidad de experimentos y cálculos es parte fundamental de la misma, el control de versiones permitirá asegurar que los resultados puedan replicarse en futuros experimentos, ya que existe un historial de cambios realizados. Es importante para la validación de modelos matemáticos y validación de resultados obtenidos.\n",
    "\n",
    "## Git y GitHub\n",
    "### ¿Qué es el Git?\n",
    "Es un sistema de control de versiones distribuido diseñado para gestionar proyectos de código fuente de manera eficiente. A diferencia de los métodos tradicionales donde los archivos se guardan manualmente con diferentes nombres (por ejemplo, 'proyecto_v1.py', 'proyecto_v2.py'), Git permite realizar un seguimiento detallado de los cambios sin necesidad de duplicar archivos.\n",
    "Carecterísticas destacadas:\n",
    "- Un historial de cambios completo, donde se registran todas las modificaciones con fecha, autor y descripción.\n",
    "- Uso de ramas (*branches*), que permiten desarrollar nuevas características sin afectar la versión principal del código.\n",
    "- Capacidad para fusionar cambios (*merge*), integrando código de diferentes colaboradores de manera organizada.\n",
    "- Revertir cambios sin perder información valiosa, permitiendo volver a versiones anteriores en caso de errores.\n",
    "\n",
    "### ¿Qué es el GitHub?\n",
    "Aunque el Git permite al usuario gestionar distintas versiones de código, GitHub es una plataforma en la nube que permite tanto compartir como alamacenar repositorios de Git de manera remota. Facilitando la colaboración en proyectos de investigación, concediendo que varios usuarios trabajen en el mismo código sin entorpecer el trabajo de los demás.\n",
    "\n",
    "## ¿Qué es un repositorio de Git?\n",
    "Es la estructura fundamentak donde se almacenan los archivos de un proyecto junto con el historial de cambios realizados. Considerado como una \"base de datos\" que guarda archivos actuales y todas las modificaciones realizadas a lo largo del tiempo.\n",
    "\n",
    "Tipos de repositorios:\n",
    "- **Locales**: aquellos que están almacenados en la computadora del usuario. Estos repositorios permiten gestionar versiones del código sin necesidad de conexión a internet.\n",
    "- **Remotos**: repositorios almacenados en servicios en la nube como GitHub, GitLab o Bitbucket. Estos permiten la colaboración con otros usuarios y el respaldo del código.\n",
    "\n",
    "### Elementos importantes en un repositorio de Git\n",
    "1. **Commits:** son registros de cambios que se realizan en el código. Cada *commit* tiene un identificador único y un mensaje descriptivo.\n",
    "2. **Ramas (*branches*):** permiten trabajar en distintas versiones del código simultáneamente sin afectar la versión principal.\n",
    "3. **Merge:** proceso de combinar cambios de diferentes ramas en una sola versión final.\n",
    "4. **Pull Requests (PR):** en plataformas como GitHub, permiten solicitar la fusión de cambios con revisión previa de los colaboradores.\n",
    "5. **Clonación (*clone*):** copia de un repositorio remoto a un entorno local para su modificación y desarrollo.\n",
    "6. **Forks:** creación de una copia independiente de un repositorio existente, útil para contribuir a proyectos de código abierto.\n",
    "\n",
    "## Aplicaciones destacadas en la física\n",
    "- **Análisis de datos:** en laboratorios de física, los datos obtenidos experimentalmente pueden ser procesados con algunos scripts en Python, R o MATLAB.\n",
    "- **Simulaciones numéricas:** áreas como la física de partículas, astrofísica y mecánica cuántica utilizan modelos que deben ser mejorados constantemente y deben ser validados rigurosamente.\n",
    "- **Colaboraciones multidisciplinarias:** físicos, ingenieros y matemáticos pueden trabajar juntos en experimentos de gran escala, como el análisis de datos del CERN o investigaciones en materiales avanzados.\n",
    "\n",
    "Además, la capacidad de documentar experimentos de manera precisa, automatizar procesos y garantizar la reproducibilidad hace que el uso de Git sea indispensable en la investigación moderna.\n",
    "\n",
    "\n",
    "\n",
    "\n",
    "\n",
    "\n",
    "\n",
    "\n",
    "\n"
   ]
  },
  {
   "cell_type": "markdown",
   "id": "4682f235-1093-4c96-a731-62ea1964aedd",
   "metadata": {},
   "source": [
    "## ¿Qué tipo de datos experimentales le gustaría trabajar?\n",
    "- Datos estadísticos\n",
    "- Datos de circuitos eléctricos\n",
    "- Temperatura"
   ]
  }
 ],
 "metadata": {
  "kernelspec": {
   "display_name": "Python 3 (ipykernel)",
   "language": "python",
   "name": "python3"
  },
  "language_info": {
   "codemirror_mode": {
    "name": "ipython",
    "version": 3
   },
   "file_extension": ".py",
   "mimetype": "text/x-python",
   "name": "python",
   "nbconvert_exporter": "python",
   "pygments_lexer": "ipython3",
   "version": "3.10.16"
  }
 },
 "nbformat": 4,
 "nbformat_minor": 5
}
