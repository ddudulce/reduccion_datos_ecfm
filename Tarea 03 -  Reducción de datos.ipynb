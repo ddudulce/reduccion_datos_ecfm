{
 "cells": [
  {
   "cell_type": "markdown",
   "id": "555f33f9-0833-45b9-b5fa-7303ee58a741",
   "metadata": {},
   "source": [
    "---\n",
    "# **Universidad de San Carlos de Guatemala**  \n",
    "## **Escuela de Ciencias Físicas y Matemáticas**    \n",
    "**Laboratorio de reducción de datos**  \n",
    "**Dulce María Mayorga Vásquez; 202306444**  \n",
    "**Tarea 03 - Conceptos de Machine Learning y aplicaciones en la física**   \n",
    "**30 de abril de 2025** \n",
    "---\n",
    "\n",
    "\n",
    "## Ejemplos de aplicaciones de Machine Learning en Física de Partículas\n",
    "\n",
    "### 1. Clasificar eventos en colisionadores\n",
    "\n",
    "Una aplicación muy útil del ML en física de partículas es cuando se quieren clasificar los eventos que se detectan en un colisionador (como el del CERN). Hay millones de datos, y lo que se busca es separar lo interesante (una nueva partícula, por ejemplo) de todo lo que es común o ruido. Usando algoritmos como árboles de decisión o redes neuronales, se puede entrenar un modelo para que reconozca esos eventos especiales sin tener que revisar todo manualmente.\n",
    "\n",
    "### 2. Reconstrucción de trayectorias de partículas\n",
    "\n",
    "Otra aplicación es ayudar a reconstruir las trayectorias que siguen las partículas después de una colisión. Con tantos datos y sensores. Aquí entran algoritmos como las redes convolucionales, que pueden detectar patrones y seguir las huellas de cada partícula con mucha precisión.\n",
    "\n",
    "\n",
    "## Métricas de evaluación para algoritmos de clasificación\n",
    "\n",
    "- **Accuracy (precisión global)**: porcentaje de predicciones correctas.\n",
    "- **Precision**: proporción de verdaderos positivos entre todos los positivos predichos.\n",
    "- **Recall (sensibilidad)**: proporción de verdaderos positivos detectados entre todos los reales.\n",
    "- **F1-Score**: media armónica entre precisión y recall.\n",
    "- **Matriz de confusión**: tabla que muestra verdaderos positivos, negativos, falsos positivos y negativos.\n",
    "\n",
    "Estas métricas ayudan a evaluar el rendimiento del modelo en problemas donde hay clases desbalanceadas, como identificar raros eventos físicos.\n",
    "\n",
    "\n",
    "## ¿Qué son los hiperparámetros?\n",
    "\n",
    "Los **hiperparámetros** son valores que configuran el comportamiento del modelo antes del entrenamiento, como:\n",
    "- Tasa de aprendizaje (learning rate)\n",
    "- Número de capas o neuronas en una red neuronal\n",
    "- Profundidad de un árbol de decisión\n",
    "- Número de iteraciones (epochs)\n",
    "- Regularización (evita sobreajuste)\n",
    "\n",
    "A diferencia de los parámetros (ajustados por el modelo), los hiperparámetros se seleccionan manualmente o por técnicas como búsqueda aleatoria o grid search.\n",
    "\n",
    "## ¿Qué es el Train-Test Split en ML?\n",
    "\n",
    "El **Train-Test Split** es una técnica fundamental que consiste en dividir un conjunto de datos en dos subconjuntos:\n",
    "- **Train (entrenamiento)**: usado para ajustar los parámetros del modelo.\n",
    "- **Test (prueba)**: usado para evaluar la capacidad de generalización del modelo a nuevos datos.\n",
    "\n",
    "Por ejemplo, una división típica es 80% para entrenamiento y 20% para prueba. Esto ayuda a evitar el sobreajuste y a obtener una evaluación realista del rendimiento del modelo."
   ]
  },
  {
   "cell_type": "code",
   "execution_count": null,
   "id": "dfa758ae-7341-47ad-85bf-209632a1e18a",
   "metadata": {},
   "outputs": [],
   "source": []
  }
 ],
 "metadata": {
  "kernelspec": {
   "display_name": "Python 3 (ipykernel)",
   "language": "python",
   "name": "python3"
  },
  "language_info": {
   "codemirror_mode": {
    "name": "ipython",
    "version": 3
   },
   "file_extension": ".py",
   "mimetype": "text/x-python",
   "name": "python",
   "nbconvert_exporter": "python",
   "pygments_lexer": "ipython3",
   "version": "3.10.16"
  }
 },
 "nbformat": 4,
 "nbformat_minor": 5
}
